{
 "cells": [
  {
   "cell_type": "code",
   "execution_count": 14,
   "metadata": {},
   "outputs": [
    {
     "name": "stdout",
     "output_type": "stream",
     "text": [
      "[[[[0. 1. 0.]\n",
      "   [1. 0. 1.]\n",
      "   [0. 1. 0.]]\n",
      "\n",
      "  [[1. 0. 0.]\n",
      "   [0. 1. 0.]\n",
      "   [1. 0. 0.]]\n",
      "\n",
      "  [[0. 1. 0.]\n",
      "   [1. 0. 1.]\n",
      "   [0. 1. 0.]]]\n",
      "\n",
      "\n",
      " [[[1. 0. 1.]\n",
      "   [0. 1. 0.]\n",
      "   [1. 0. 1.]]\n",
      "\n",
      "  [[0. 1. 0.]\n",
      "   [1. 0. 1.]\n",
      "   [0. 1. 0.]]\n",
      "\n",
      "  [[1. 0. 1.]\n",
      "   [0. 1. 0.]\n",
      "   [1. 0. 1.]]]]\n",
      "(2, 3, 3, 3)\n",
      "(2,)\n",
      "Epoch 1/10\n"
     ]
    },
    {
     "name": "stderr",
     "output_type": "stream",
     "text": [
      "c:\\Users\\Hans\\AppData\\Local\\Programs\\Python\\Python311\\Lib\\site-packages\\keras\\src\\layers\\convolutional\\base_conv.py:107: UserWarning: Do not pass an `input_shape`/`input_dim` argument to a layer. When using Sequential models, prefer using an `Input(shape)` object as the first layer in the model instead.\n",
      "  super().__init__(activity_regularizer=activity_regularizer, **kwargs)\n"
     ]
    },
    {
     "name": "stdout",
     "output_type": "stream",
     "text": [
      "\u001b[1m1/1\u001b[0m \u001b[32m━━━━━━━━━━━━━━━━━━━━\u001b[0m\u001b[37m\u001b[0m \u001b[1m1s\u001b[0m 559ms/step - accuracy: 0.5000 - loss: 0.8348\n",
      "Epoch 2/10\n",
      "\u001b[1m1/1\u001b[0m \u001b[32m━━━━━━━━━━━━━━━━━━━━\u001b[0m\u001b[37m\u001b[0m \u001b[1m0s\u001b[0m 39ms/step - accuracy: 0.5000 - loss: 0.8216\n",
      "Epoch 3/10\n",
      "\u001b[1m1/1\u001b[0m \u001b[32m━━━━━━━━━━━━━━━━━━━━\u001b[0m\u001b[37m\u001b[0m \u001b[1m0s\u001b[0m 39ms/step - accuracy: 0.5000 - loss: 0.7971\n",
      "Epoch 4/10\n",
      "\u001b[1m1/1\u001b[0m \u001b[32m━━━━━━━━━━━━━━━━━━━━\u001b[0m\u001b[37m\u001b[0m \u001b[1m0s\u001b[0m 33ms/step - accuracy: 0.5000 - loss: 0.7639\n",
      "Epoch 5/10\n",
      "\u001b[1m1/1\u001b[0m \u001b[32m━━━━━━━━━━━━━━━━━━━━\u001b[0m\u001b[37m\u001b[0m \u001b[1m0s\u001b[0m 39ms/step - accuracy: 0.5000 - loss: 0.7241\n",
      "Epoch 6/10\n",
      "\u001b[1m1/1\u001b[0m \u001b[32m━━━━━━━━━━━━━━━━━━━━\u001b[0m\u001b[37m\u001b[0m \u001b[1m0s\u001b[0m 36ms/step - accuracy: 0.5000 - loss: 0.6855\n",
      "Epoch 7/10\n",
      "\u001b[1m1/1\u001b[0m \u001b[32m━━━━━━━━━━━━━━━━━━━━\u001b[0m\u001b[37m\u001b[0m \u001b[1m0s\u001b[0m 37ms/step - accuracy: 0.5000 - loss: 0.6535\n",
      "Epoch 8/10\n",
      "\u001b[1m1/1\u001b[0m \u001b[32m━━━━━━━━━━━━━━━━━━━━\u001b[0m\u001b[37m\u001b[0m \u001b[1m0s\u001b[0m 36ms/step - accuracy: 0.5000 - loss: 0.6282\n",
      "Epoch 9/10\n",
      "\u001b[1m1/1\u001b[0m \u001b[32m━━━━━━━━━━━━━━━━━━━━\u001b[0m\u001b[37m\u001b[0m \u001b[1m0s\u001b[0m 38ms/step - accuracy: 0.5000 - loss: 0.6033\n",
      "Epoch 10/10\n",
      "\u001b[1m1/1\u001b[0m \u001b[32m━━━━━━━━━━━━━━━━━━━━\u001b[0m\u001b[37m\u001b[0m \u001b[1m0s\u001b[0m 35ms/step - accuracy: 0.5000 - loss: 0.5784\n",
      "WARNING:tensorflow:6 out of the last 6 calls to <function TensorFlowTrainer.make_predict_function.<locals>.one_step_on_data_distributed at 0x00000183FE772020> triggered tf.function retracing. Tracing is expensive and the excessive number of tracings could be due to (1) creating @tf.function repeatedly in a loop, (2) passing tensors with different shapes, (3) passing Python objects instead of tensors. For (1), please define your @tf.function outside of the loop. For (2), @tf.function has reduce_retracing=True option that can avoid unnecessary retracing. For (3), please refer to https://www.tensorflow.org/guide/function#controlling_retracing and https://www.tensorflow.org/api_docs/python/tf/function for  more details.\n",
      "\u001b[1m1/1\u001b[0m \u001b[32m━━━━━━━━━━━━━━━━━━━━\u001b[0m\u001b[37m\u001b[0m \u001b[1m0s\u001b[0m 48ms/step\n",
      "Predicted class: 0\n"
     ]
    }
   ],
   "source": [
    "# Importar las librerías necesarias\n",
    "import numpy as np\n",
    "from tensorflow.keras.models import Sequential\n",
    "from tensorflow.keras.layers import Conv2D, Flatten, Dense\n",
    "from tensorflow.keras.losses import SparseCategoricalCrossentropy\n",
    "from tensorflow.keras.optimizers import SGD\n",
    "\n",
    "# Definir el modelo de la red convolucional\n",
    "model = Sequential([\n",
    "    Conv2D(filters=6, kernel_size=(3, 3), activation='relu', input_shape=(3, 3, 3)),\n",
    "    Flatten(),\n",
    "    Dense(units=2, activation='softmax')\n",
    "])\n",
    "\n",
    "# Compilar el modelo\n",
    "model.compile(optimizer=SGD(learning_rate=0.01, momentum=0.9),\n",
    "              loss=SparseCategoricalCrossentropy(),\n",
    "              metrics=['accuracy'])\n",
    "\n",
    "# Definir datos de ejemplo (2 matrices 3x3 con 3 canales)\n",
    "data = np.array([\n",
    "    [[[0, 1, 0], [1, 0, 1], [0, 1, 0]],\n",
    "     [[1, 0, 0], [0, 1, 0], [1, 0, 0]],\n",
    "     [[0, 1, 0], [1, 0, 1], [0, 1, 0]]],\n",
    "    \n",
    "    [[[1, 0, 1], [0, 1, 0], [1, 0, 1]],\n",
    "     [[0, 1, 0], [1, 0, 1], [0, 1, 0]],\n",
    "     [[1, 0, 1], [0, 1, 0], [1, 0, 1]]]\n",
    "], dtype=np.float32)\n",
    "\n",
    "with np.printoptions(threshold=np.inf):\n",
    "    print(data)\n",
    "\n",
    "# Etiquetas de ejemplo (clases)\n",
    "labels = np.array([0, 1], dtype=int)\n",
    "\n",
    "print(data.shape)\n",
    "print(labels.shape)\n",
    "\n",
    "# Entrenar el modelo\n",
    "model.fit(data, labels, epochs=10)\n",
    "\n",
    "# Prueba con un nuevo dato\n",
    "test_data = np.array([[[[0, 1, 0], [1, 0, 1], [0, 1, 0]],\n",
    "                       [[1, 0, 0], [0, 1, 0], [1, 0, 0]],\n",
    "                       [[0, 1, 0], [1, 0, 1], [0, 1, 0]]]], dtype=np.float32)\n",
    "\n",
    "predicted = model.predict(test_data)\n",
    "predicted_class = np.argmax(predicted, axis=1)\n",
    "print(f\"Predicted class: {predicted_class[0]}\")\n"
   ]
  }
 ],
 "metadata": {
  "kernelspec": {
   "display_name": "Python 3",
   "language": "python",
   "name": "python3"
  },
  "language_info": {
   "codemirror_mode": {
    "name": "ipython",
    "version": 3
   },
   "file_extension": ".py",
   "mimetype": "text/x-python",
   "name": "python",
   "nbconvert_exporter": "python",
   "pygments_lexer": "ipython3",
   "version": "3.11.9"
  }
 },
 "nbformat": 4,
 "nbformat_minor": 2
}
