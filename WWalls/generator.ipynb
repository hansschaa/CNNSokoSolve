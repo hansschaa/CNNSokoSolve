{
 "cells": [
  {
   "cell_type": "code",
   "execution_count": null,
   "metadata": {},
   "outputs": [],
   "source": [
    "import numpy as np\n",
    "from keras.models import Sequential\n",
    "from tensorflow.keras.layers import Input, Activation, Conv2D, GlobalMaxPooling2D,GlobalAveragePooling2D, Dense, MaxPooling2D\n",
    "\n",
    "# Crear algunos datos de ejemplo\n",
    "X = np.random.rand(100, 10)  # 100 muestras, cada una con 10 características\n",
    "y = np.random.randint(0, 2, size=100)  # 100 etiquetas binarias\n",
    "\n",
    "# Design model\n",
    "model = Sequential()\n",
    "x = Conv2D(filters=32, kernel_size=3, activation='relu', padding='same')(inputs)\n",
    "x = Conv2D(filters=32, kernel_size=3, activation='relu', padding='same')(x)\n",
    "x = Conv2D(filters=64, kernel_size=3, activation='relu', padding='same')(x)\n",
    "x = Conv2D(filters=64, kernel_size=1, activation='relu', padding='same')(x)\n",
    "# conv2d que transforma todo a x * y * 64\n",
    "x = Conv2D(filters=1, kernel_size=1, activation='relu', padding='same')(x)\n",
    "#Condensa todos los valores de x * y * 1 a un solo valor \n",
    "x = GlobalMaxPooling2D()(x)\n",
    "outputs = Dense(1, activation = \"sigmoid\")(x) # softmax output\n",
    "model.compile()\n",
    "\n",
    "# Train model on your dataset\n",
    "model.fit(x=X, y=y)"
   ]
  }
 ],
 "metadata": {
  "language_info": {
   "name": "python"
  }
 },
 "nbformat": 4,
 "nbformat_minor": 2
}
