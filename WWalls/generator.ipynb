{
 "cells": [
  {
   "cell_type": "code",
   "execution_count": null,
   "metadata": {},
   "outputs": [],
   "source": [
    "import numpy as np\n",
    "from keras.models import Sequential\n",
    "\n",
    "# Load entire dataset\n",
    "X, y = np.load('some_training_set_with_labels.npy')\n",
    "\n",
    "# Design model\n",
    "model = Sequential()\n",
    "[...] # Your architecture\n",
    "model.compile()\n",
    "\n",
    "# Train model on your dataset\n",
    "model.fit(x=X, y=y)"
   ]
  }
 ],
 "metadata": {
  "language_info": {
   "name": "python"
  }
 },
 "nbformat": 4,
 "nbformat_minor": 2
}
